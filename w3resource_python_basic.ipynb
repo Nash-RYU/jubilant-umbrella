{
 "cells": [
  {
   "cell_type": "code",
   "execution_count": 1,
   "metadata": {},
   "outputs": [
    {
     "name": "stdout",
     "output_type": "stream",
     "text": [
      "red\n",
      "black\n"
     ]
    }
   ],
   "source": [
    "#8\n",
    "def color_list_show():\n",
    "    color_list=[\"red\", \"green\", \"white\", \"black\"]\n",
    "    print(color_list[0])\n",
    "    print(color_list[-1])\n",
    "\n",
    "color_list_show()\n"
   ]
  },
  {
   "cell_type": "code",
   "execution_count": 9,
   "metadata": {},
   "outputs": [
    {
     "name": "stdout",
     "output_type": "stream",
     "text": [
      "The examination will start from: 11 /12 / 2014\n"
     ]
    }
   ],
   "source": [
    "#9\n",
    "def exam_schedule():\n",
    "    exam_date = (11, 12, 2014)\n",
    "    print(\"The examination will start from: %s /%s / %s\"%(exam_date[0], exam_date[1], exam_date[-1]))\n",
    "    \n",
    "exam_schedule()"
   ]
  },
  {
   "cell_type": "code",
   "execution_count": 10,
   "metadata": {},
   "outputs": [
    {
     "name": "stdout",
     "output_type": "stream",
     "text": [
      "The examination will start from : 11 / 12 / 2014\n"
     ]
    }
   ],
   "source": [
    "#9 sample solutionのほうがより簡潔だ\n",
    "exam_st_date = (11,12,2014)\n",
    "print( \"The examination will start from : %i / %i / %i\"%exam_st_date)"
   ]
  },
  {
   "cell_type": "code",
   "execution_count": 20,
   "metadata": {},
   "outputs": [
    {
     "name": "stdout",
     "output_type": "stream",
     "text": [
      "The examination will start from: 11 /12 /2014\n"
     ]
    }
   ],
   "source": [
    "#9　format()の引数は順序を入力することが必要らしい　\n",
    "def exam_schedule():\n",
    "    exam_date = (11, 12, 2014)\n",
    "    print(\"The examination will start from: {0[0]} /{0[1]} /{0[2]}\".format(exam_date))\n",
    "    \n",
    "exam_schedule()"
   ]
  },
  {
   "cell_type": "code",
   "execution_count": 22,
   "metadata": {},
   "outputs": [
    {
     "name": "stdout",
     "output_type": "stream",
     "text": [
      "11/12/2014\n"
     ]
    }
   ],
   "source": [
    "#9 f文字列　フォーマット済み文字列リテラルを用いる\n",
    "def exam_schedule():\n",
    "    exam_date = (11, 12, 2014)\n",
    "    print(f\"{exam_date[0]}/{exam_date[1]}/{exam_date[2]}\")\n",
    "exam_schedule()"
   ]
  },
  {
   "cell_type": "code",
   "execution_count": 19,
   "metadata": {},
   "outputs": [
    {
     "name": "stdout",
     "output_type": "stream",
     "text": [
      "[50, 100, 150]\n",
      "りんご：50円 みかん：100円 合計：150円\n"
     ]
    }
   ],
   "source": [
    "#example\n",
    "apple  = 50\n",
    "orange = 100\n",
    "total = apple + orange\n",
    "\n",
    "list = [apple, orange, total]  #リストの作成\n",
    "print(list)\n",
    "print('りんご：{0[0]}円 みかん：{0[1]}円 合計：{0[2]}円'.format(list))"
   ]
  },
  {
   "cell_type": "code",
   "execution_count": 27,
   "metadata": {},
   "outputs": [],
   "source": [
    "#10\n",
    "def number_sum(m):\n",
    "    print(\"sample value of m is\", m)\n",
    "    print(\"Result:\", m+m**2+m**3)"
   ]
  },
  {
   "cell_type": "code",
   "execution_count": 28,
   "metadata": {},
   "outputs": [
    {
     "name": "stdout",
     "output_type": "stream",
     "text": [
      "sample value of m is 2\n",
      "Result: 14\n"
     ]
    }
   ],
   "source": [
    "number_sum(2)"
   ]
  },
  {
   "cell_type": "code",
   "execution_count": 29,
   "metadata": {},
   "outputs": [],
   "source": [
    "#10\n",
    "def number_sum(m):\n",
    "    print(\"sample value of m is\", m)\n",
    "    print(\"Result:\", m+m*10+m+m*100+m*10+m)"
   ]
  },
  {
   "cell_type": "code",
   "execution_count": 31,
   "metadata": {},
   "outputs": [
    {
     "name": "stdout",
     "output_type": "stream",
     "text": [
      "sample value of m is 3\n",
      "Result: 369\n"
     ]
    },
    {
     "data": {
      "text/plain": [
       "369"
      ]
     },
     "execution_count": 31,
     "metadata": {},
     "output_type": "execute_result"
    }
   ],
   "source": [
    "number_sum(3)\n",
    "3+33+333"
   ]
  },
  {
   "cell_type": "code",
   "execution_count": 32,
   "metadata": {},
   "outputs": [
    {
     "name": "stdin",
     "output_type": "stream",
     "text": [
      "Input an integer :  5\n"
     ]
    },
    {
     "name": "stdout",
     "output_type": "stream",
     "text": [
      "615\n"
     ]
    }
   ],
   "source": [
    "#10 sample solution\n",
    "a = int(input(\"Input an integer : \"))\n",
    "n1 = int( \"%s\" % a )\n",
    "n2 = int( \"%s%s\" % (a,a) )\n",
    "n3 = int( \"%s%s%s\" % (a,a,a) )\n",
    "print (n1+n2+n3)"
   ]
  },
  {
   "cell_type": "code",
   "execution_count": 1,
   "metadata": {},
   "outputs": [
    {
     "name": "stdout",
     "output_type": "stream",
     "text": [
      "Return the absolute value of the argument.\n"
     ]
    }
   ],
   "source": [
    "#11\n",
    "print(abs.__doc__)"
   ]
  },
  {
   "cell_type": "code",
   "execution_count": 2,
   "metadata": {},
   "outputs": [
    {
     "name": "stdout",
     "output_type": "stream",
     "text": [
      "print(value, ..., sep=' ', end='\\n', file=sys.stdout, flush=False)\n",
      "\n",
      "Prints the values to a stream, or to sys.stdout by default.\n",
      "Optional keyword arguments:\n",
      "file:  a file-like object (stream); defaults to the current sys.stdout.\n",
      "sep:   string inserted between values, default a space.\n",
      "end:   string appended after the last value, default a newline.\n",
      "flush: whether to forcibly flush the stream.\n"
     ]
    }
   ],
   "source": [
    "print(print.__doc__)"
   ]
  },
  {
   "cell_type": "code",
   "execution_count": 3,
   "metadata": {},
   "outputs": [
    {
     "name": "stdout",
     "output_type": "stream",
     "text": [
      "Help on built-in function print in module builtins:\n",
      "\n",
      "print(...)\n",
      "    print(value, ..., sep=' ', end='\\n', file=sys.stdout, flush=False)\n",
      "    \n",
      "    Prints the values to a stream, or to sys.stdout by default.\n",
      "    Optional keyword arguments:\n",
      "    file:  a file-like object (stream); defaults to the current sys.stdout.\n",
      "    sep:   string inserted between values, default a space.\n",
      "    end:   string appended after the last value, default a newline.\n",
      "    flush: whether to forcibly flush the stream.\n",
      "\n"
     ]
    }
   ],
   "source": [
    "\"\"\"\n",
    "Jupyter環境ではこのような機能も使える\n",
    "\"\"\"\n",
    "help(print)"
   ]
  },
  {
   "cell_type": "code",
   "execution_count": 6,
   "metadata": {},
   "outputs": [
    {
     "data": {
      "text/plain": [
       "(5, 29)"
      ]
     },
     "execution_count": 6,
     "metadata": {},
     "output_type": "execute_result"
    }
   ],
   "source": [
    "import calendar\n",
    "calendar.monthrange(2020, 2)"
   ]
  },
  {
   "cell_type": "code",
   "execution_count": 10,
   "metadata": {},
   "outputs": [
    {
     "name": "stdout",
     "output_type": "stream",
     "text": [
      "   February 2020\n",
      "Mo Tu We Th Fr Sa Su\n",
      "                1  2\n",
      " 3  4  5  6  7  8  9\n",
      "10 11 12 13 14 15 16\n",
      "17 18 19 20 21 22 23\n",
      "24 25 26 27 28 29\n",
      "\n"
     ]
    }
   ],
   "source": [
    "import calendar\n",
    "print(calendar.month(2020, 2))"
   ]
  },
  {
   "cell_type": "code",
   "execution_count": 2,
   "metadata": {},
   "outputs": [],
   "source": [
    "def diff_17(x):\n",
    "    if x>17:\n",
    "        return 2*abs(17-x)\n",
    "    else:\n",
    "        return x"
   ]
  },
  {
   "cell_type": "code",
   "execution_count": 3,
   "metadata": {},
   "outputs": [
    {
     "data": {
      "text/plain": [
       "3"
      ]
     },
     "execution_count": 3,
     "metadata": {},
     "output_type": "execute_result"
    }
   ],
   "source": [
    "diff_17(3)"
   ]
  },
  {
   "cell_type": "code",
   "execution_count": 4,
   "metadata": {},
   "outputs": [
    {
     "data": {
      "text/plain": [
       "4"
      ]
     },
     "execution_count": 4,
     "metadata": {},
     "output_type": "execute_result"
    }
   ],
   "source": [
    "diff_17(19)"
   ]
  },
  {
   "cell_type": "code",
   "execution_count": 9,
   "metadata": {},
   "outputs": [],
   "source": [
    "def diff_1000(x):\n",
    "    if abs(1000-x)<100 or abs(2000-x)<100:\n",
    "        return True\n",
    "    #else:\n",
    "        #return False"
   ]
  },
  {
   "cell_type": "code",
   "execution_count": 10,
   "metadata": {},
   "outputs": [
    {
     "data": {
      "text/plain": [
       "True"
      ]
     },
     "execution_count": 10,
     "metadata": {},
     "output_type": "execute_result"
    }
   ],
   "source": [
    "diff_1000(990)"
   ]
  },
  {
   "cell_type": "code",
   "execution_count": 11,
   "metadata": {},
   "outputs": [
    {
     "data": {
      "text/plain": [
       "True"
      ]
     },
     "execution_count": 11,
     "metadata": {},
     "output_type": "execute_result"
    }
   ],
   "source": [
    "diff_1000(2000)"
   ]
  },
  {
   "cell_type": "code",
   "execution_count": 12,
   "metadata": {},
   "outputs": [],
   "source": [
    "diff_1000(300)"
   ]
  },
  {
   "cell_type": "code",
   "execution_count": 13,
   "metadata": {},
   "outputs": [
    {
     "name": "stdout",
     "output_type": "stream",
     "text": [
      "True\n",
      "True\n",
      "False\n",
      "False\n"
     ]
    }
   ],
   "source": [
    "#17 sample solution\n",
    "def near_thousand(n):\n",
    "      return ((abs(1000 - n) <= 100) or (abs(2000 - n) <= 100))\n",
    "print(near_thousand(1000))\n",
    "print(near_thousand(900))\n",
    "print(near_thousand(800))   \n",
    "print(near_thousand(2200))"
   ]
  },
  {
   "cell_type": "code",
   "execution_count": 14,
   "metadata": {},
   "outputs": [],
   "source": [
    "#18\n",
    "def three_given_nb(a, b, c):\n",
    "    print(a+b+c)\n",
    "    if a==b==c:\n",
    "        return 3*(a+b+c)"
   ]
  },
  {
   "cell_type": "code",
   "execution_count": 15,
   "metadata": {},
   "outputs": [
    {
     "name": "stdout",
     "output_type": "stream",
     "text": [
      "16\n"
     ]
    }
   ],
   "source": [
    "three_given_nb(2, 4, 10)"
   ]
  },
  {
   "cell_type": "code",
   "execution_count": 16,
   "metadata": {},
   "outputs": [
    {
     "name": "stdout",
     "output_type": "stream",
     "text": [
      "9\n"
     ]
    },
    {
     "data": {
      "text/plain": [
       "27"
      ]
     },
     "execution_count": 16,
     "metadata": {},
     "output_type": "execute_result"
    }
   ],
   "source": [
    "three_given_nb(3, 3, 3)"
   ]
  },
  {
   "cell_type": "code",
   "execution_count": 19,
   "metadata": {},
   "outputs": [],
   "source": [
    "\"\"\"\n",
    "19\n",
    "Write a Python program to get a new string from a given string \n",
    "where \"Is\" has been added to the front. \n",
    "If the given string already begins with \"Is\" then return the string unchanged.\n",
    "\n",
    "\"\"\"\n",
    "\n",
    "def string_is():\n",
    "    x=input(\"Type sentence\")\n",
    "    if x.startswith(\"Is\"):\n",
    "        return x\n",
    "    else:\n",
    "        print(\"Is \"+x)\n"
   ]
  },
  {
   "cell_type": "code",
   "execution_count": 21,
   "metadata": {},
   "outputs": [
    {
     "name": "stdin",
     "output_type": "stream",
     "text": [
      "Type sentence Is this a pen?\n"
     ]
    },
    {
     "data": {
      "text/plain": [
       "'Is this a pen?'"
      ]
     },
     "execution_count": 21,
     "metadata": {},
     "output_type": "execute_result"
    }
   ],
   "source": [
    "string_is()"
   ]
  },
  {
   "cell_type": "code",
   "execution_count": 22,
   "metadata": {},
   "outputs": [
    {
     "name": "stdin",
     "output_type": "stream",
     "text": [
      "Type sentence an apple\n"
     ]
    },
    {
     "name": "stdout",
     "output_type": "stream",
     "text": [
      "Is an apple\n"
     ]
    }
   ],
   "source": [
    "string_is()"
   ]
  },
  {
   "cell_type": "code",
   "execution_count": 23,
   "metadata": {},
   "outputs": [],
   "source": [
    "\n",
    "def string_is(x):\n",
    "\n",
    "    if x.startswith(\"Is\"):\n",
    "        return x\n",
    "    else:\n",
    "        print(\"Is \"+x)"
   ]
  },
  {
   "cell_type": "code",
   "execution_count": 24,
   "metadata": {},
   "outputs": [
    {
     "name": "stdout",
     "output_type": "stream",
     "text": [
      "Is an apple\n"
     ]
    }
   ],
   "source": [
    "string_is(\"an apple\")"
   ]
  },
  {
   "cell_type": "code",
   "execution_count": 25,
   "metadata": {},
   "outputs": [
    {
     "data": {
      "text/plain": [
       "'Is he Japanese?'"
      ]
     },
     "execution_count": 25,
     "metadata": {},
     "output_type": "execute_result"
    }
   ],
   "source": [
    "string_is(\"Is he Japanese?\")"
   ]
  },
  {
   "cell_type": "code",
   "execution_count": 26,
   "metadata": {},
   "outputs": [],
   "source": [
    "def w3re_20(x, n):\n",
    "    y=x*abs(int(n))\n",
    "    return y"
   ]
  },
  {
   "cell_type": "code",
   "execution_count": 27,
   "metadata": {},
   "outputs": [
    {
     "data": {
      "text/plain": [
       "'dogdogdogdogdogdogdogdog'"
      ]
     },
     "execution_count": 27,
     "metadata": {},
     "output_type": "execute_result"
    }
   ],
   "source": [
    "w3re_20(\"dog\", 8)"
   ]
  },
  {
   "cell_type": "code",
   "execution_count": 28,
   "metadata": {},
   "outputs": [
    {
     "name": "stdout",
     "output_type": "stream",
     "text": [
      "4 is even\n",
      "5 is odd\n",
      "3892 is even\n"
     ]
    }
   ],
   "source": [
    "\"\"\"\n",
    "21. Write a Python program to find whether a given number (accept \n",
    "from the user) is even or odd, print out an appropriate\n",
    " message to the user. \n",
    "\"\"\"\n",
    "def w3re_21(x):\n",
    "    if x%2==0:\n",
    "        print(x, \"is even\")\n",
    "    else:\n",
    "        print(x, \"is odd\")\n",
    "\n",
    "\n",
    "w3re_21(4)\n",
    "w3re_21(5)\n",
    "w3re_21(3892)"
   ]
  },
  {
   "cell_type": "code",
   "execution_count": 31,
   "metadata": {},
   "outputs": [
    {
     "name": "stdout",
     "output_type": "stream",
     "text": [
      "5\n",
      "1\n"
     ]
    }
   ],
   "source": [
    "\"\"\"\n",
    "22. Write a Python program to count the number 4 in a given list. \n",
    "Click me to see the sample solution\n",
    "\"\"\"\n",
    "def w3re_22(x):\n",
    "    n=0\n",
    "    for i in x:\n",
    "        if i ==4:\n",
    "            n +=1\n",
    "        \n",
    "    print(n)\n",
    "\n",
    "w3re_22([4, 4, 4, 4, 4])\n",
    "w3re_22([5, 6, 4, 1 ,2])\n"
   ]
  },
  {
   "cell_type": "code",
   "execution_count": 34,
   "metadata": {},
   "outputs": [
    {
     "data": {
      "text/plain": [
       "'dododo'"
      ]
     },
     "execution_count": 34,
     "metadata": {},
     "output_type": "execute_result"
    }
   ],
   "source": [
    "\"\"\"\n",
    "23. Write a Python program to get the n (non-negative integer) \n",
    "copies of the first 2 characters of a given string. \n",
    "Return the n copies of the whole string if the length is \n",
    "less than 2. \n",
    "\"\"\"\n",
    "def w3re_23(a,b):\n",
    "    if len(a)<2:\n",
    "        return a*int(b)\n",
    "    else:\n",
    "        return a[0:2]*int(b)\n",
    "\n",
    "w3re_23(\"dog\", 3)\n"
   ]
  },
  {
   "cell_type": "code",
   "execution_count": 37,
   "metadata": {},
   "outputs": [
    {
     "name": "stdout",
     "output_type": "stream",
     "text": [
      "a is a vowel\n",
      "F is not a vowel\n",
      "I is a vowel\n"
     ]
    }
   ],
   "source": [
    "\"\"\"\n",
    "24. Write a Python program to test whether a passed letter \n",
    "is a vowel or not. \n",
    "\"\"\"\n",
    "def w3re_24(a):\n",
    "    list_vowel= (\"a\", \"e\", \"i\", \"o\", \"u\", \"A\", \"E\", \"I\", \"O\", \"U\")\n",
    "    if a in list_vowel:\n",
    "        print(a, \"is a vowel\")\n",
    "    else:\n",
    "        print(a, \"is not a vowel\")\n",
    "\n",
    "w3re_24(\"a\")\n",
    "w3re_24(\"F\")\n",
    "w3re_24(\"I\")\n"
   ]
  },
  {
   "cell_type": "code",
   "execution_count": 42,
   "metadata": {},
   "outputs": [
    {
     "data": {
      "text/plain": [
       "(array([1., 2., 0., 0., 1., 0., 0., 0., 0., 1.]),\n",
       " array([ 2. ,  3.7,  5.4,  7.1,  8.8, 10.5, 12.2, 13.9, 15.6, 17.3, 19. ]),\n",
       " <a list of 10 Patch objects>)"
      ]
     },
     "execution_count": 42,
     "metadata": {},
     "output_type": "execute_result"
    }
   ],
   "source": [
    "\"\"\"\n",
    "26. Write a Python program to create a histogram from \n",
    "a given list of integers. Go to the editor\n",
    "Click me to see the sample solution\n",
    "\"\"\"\n",
    "\n",
    "import numpy as np\n",
    "import matplotlib.pyplot as plt\n",
    "x=[2, 4, 5, 10, 19]\n",
    "plt.hist(x)\n"
   ]
  },
  {
   "cell_type": "code",
   "execution_count": 47,
   "metadata": {},
   "outputs": [
    {
     "data": {
      "text/plain": [
       "[1, 5, 8, 3]"
      ]
     },
     "execution_count": 47,
     "metadata": {},
     "output_type": "execute_result"
    }
   ],
   "source": [
    "\"\"\"\n",
    "25. Write a Python program to check whether a specified value is \n",
    "contained in a group of values. Go to the editor\n",
    "Test Data :\n",
    "3 -> [1, 5, 8, 3] : True\n",
    "-1 -> [1, 5, 8, 3] : False\n",
    "\"\"\"\n",
    "def w3re_25(x, y):\n",
    "    return([i for i in x])\n",
    "\n",
    "w3re_25([1, 5, 8, 3], -1)\n"
   ]
  },
  {
   "cell_type": "code",
   "execution_count": 48,
   "metadata": {},
   "outputs": [
    {
     "data": {
      "text/plain": [
       "True"
      ]
     },
     "execution_count": 48,
     "metadata": {},
     "output_type": "execute_result"
    }
   ],
   "source": [
    "def w3re_25(x, y):\n",
    "    return(y in x)\n",
    "w3re_25([1, 5, 8, 3], 8)"
   ]
  },
  {
   "cell_type": "code",
   "execution_count": 50,
   "metadata": {},
   "outputs": [
    {
     "data": {
      "text/plain": [
       "False"
      ]
     },
     "execution_count": 50,
     "metadata": {},
     "output_type": "execute_result"
    }
   ],
   "source": [
    "def w3re_25(x, y):\n",
    "    return(y in x)\n",
    "w3re_25([1, 5, 8, 3], -7)"
   ]
  },
  {
   "cell_type": "code",
   "execution_count": 62,
   "metadata": {},
   "outputs": [
    {
     "data": {
      "text/plain": [
       "'beatlesrolling stonesred hot chili peppers8'"
      ]
     },
     "execution_count": 62,
     "metadata": {},
     "output_type": "execute_result"
    }
   ],
   "source": [
    "\n",
    "\"\"\"\n",
    "\n",
    "27. Write a Python program to concatenate all elements in a list into a string and return it. Go to the editor\n",
    "Click me to see the sample solution\n",
    "\n",
    "\"\"\"\n",
    "\n",
    "def w3re_26(str_list):\n",
    "    \n",
    "    x=\"\".join(str_list)\n",
    "    return x\n",
    "\n",
    "w3re_26([\"beatles\", \"rolling stones\", \"red hot chili peppers\", \"8\"])"
   ]
  },
  {
   "cell_type": "code",
   "execution_count": 61,
   "metadata": {},
   "outputs": [
    {
     "data": {
      "text/plain": [
       "'beatlesrolling stonesred hot chili peppers8'"
      ]
     },
     "execution_count": 61,
     "metadata": {},
     "output_type": "execute_result"
    }
   ],
   "source": [
    "\"\"\"\n",
    "27. Write a Python program to concatenate all elements in a list into a string and return it. Go to the editor\n",
    "Click me to see the sample solution\n",
    "\n",
    "\"\"\"\n",
    "\n",
    "def w3re_26(str_list):\n",
    "    x=\"\"\n",
    "    for i in str_list:\n",
    "        x += i\n",
    "    return x\n",
    "\n",
    "w3re_26([\"beatles\", \"rolling stones\", \"red hot chili peppers\", \"8\"])"
   ]
  },
  {
   "cell_type": "code",
   "execution_count": 65,
   "metadata": {},
   "outputs": [
    {
     "name": "stdout",
     "output_type": "stream",
     "text": [
      "386\n",
      "462\n",
      "418\n",
      "344\n",
      "236\n",
      "566\n",
      "978\n",
      "328\n",
      "162\n",
      "758\n",
      "918\n"
     ]
    }
   ],
   "source": [
    "\"\"\"\n",
    "28. Write a Python program to print all even numbers from a \n",
    "given numbers list in the same order and stop the printing \n",
    "if any numbers that come after 237 in the sequence. Go to the editor\n",
    "Sample numbers list :\n",
    "\n",
    "numbers = [    \n",
    "    386, 462, 47, 418, 907, 344, 236, 375, 823, \n",
    "    566, 597, 978, 328, 615, 953, 345, \n",
    "    399, 162, 758, 219, 918, 237, 412, 566, 826, \n",
    "    248, 866, 950, 626, 949, 687, 217, \n",
    "    815, 67, 104, 58, 512, 24, 892, 894, 767, \n",
    "    553, 81, 379, 843, 831, 445, 742, 717, \n",
    "    958,743, 527\n",
    "    ]\n",
    "Click me to see the sample solution\n",
    "\"\"\"\n",
    "\n",
    "def w3re_27():\n",
    "    numbers = [386, 462, 47, 418, 907, 344, 236, 375, 823, \n",
    "    566, 597, 978, 328, 615, 953, 345, \n",
    "    399, 162, 758, 219, 918, 237, 412, 566, 826, \n",
    "    248, 866, 950, 626, 949, 687, 217, \n",
    "    815, 67, 104, 58, 512, 24, 892, 894, 767, \n",
    "    553, 81, 379, 843, 831, 445, 742, 717, \n",
    "    958,743, 527]\n",
    "    for i in numbers:\n",
    "        if i%2==0:\n",
    "            print(i)\n",
    "        elif i ==237:\n",
    "            break\n",
    "w3re_27()"
   ]
  },
  {
   "cell_type": "code",
   "execution_count": 85,
   "metadata": {},
   "outputs": [],
   "source": [
    "\"\"\"\n",
    "29. Write a Python program to print out a set containing \n",
    "all the colors from color_list_1 which are not present \n",
    "in color_list_2. Go to the editor\n",
    "Test Data :\n",
    "color_list_1 = set([\"White\", \"Black\", \"Red\"])\n",
    "color_list_2 = set([\"Red\", \"Green\"])\n",
    "Expected Output :\n",
    "{'Black', 'White'}\n",
    "Click me to see the sample solution\n",
    "\"\"\"\n",
    "\n",
    "def w3re_29(x, y):\n",
    "    z=[i for i in x if i not in y]\n",
    "    return  set(z)\n",
    "#setとlistは異なるらしい"
   ]
  },
  {
   "cell_type": "code",
   "execution_count": 86,
   "metadata": {},
   "outputs": [
    {
     "data": {
      "text/plain": [
       "{'Black', 'White'}"
      ]
     },
     "execution_count": 86,
     "metadata": {},
     "output_type": "execute_result"
    }
   ],
   "source": [
    "w3re_29(set([\"White\", \"Black\", \"Red\"]), set([\"Red\", \"Green\"]))"
   ]
  },
  {
   "cell_type": "code",
   "execution_count": 87,
   "metadata": {},
   "outputs": [
    {
     "data": {
      "text/plain": [
       "{'Black', 'White'}"
      ]
     },
     "execution_count": 87,
     "metadata": {},
     "output_type": "execute_result"
    }
   ],
   "source": [
    "w3re_29([\"White\", \"Black\", \"Red\"], [\"Red\", \"Green\"])"
   ]
  },
  {
   "cell_type": "code",
   "execution_count": 88,
   "metadata": {},
   "outputs": [
    {
     "data": {
      "text/plain": [
       "{'Black', 'White'}"
      ]
     },
     "execution_count": 88,
     "metadata": {},
     "output_type": "execute_result"
    }
   ],
   "source": [
    "w3re_29([\"White\", \"Black\", \"Red\"], [\"Red\", \"Green\"])"
   ]
  },
  {
   "cell_type": "code",
   "execution_count": 92,
   "metadata": {},
   "outputs": [
    {
     "name": "stdout",
     "output_type": "stream",
     "text": [
      "{'Red'}\n",
      "{'Red', 'Green', 'White', 'Black'}\n",
      "{'White', 'Black'}\n",
      "{'Green'}\n"
     ]
    }
   ],
   "source": [
    "color_list_1 = set([\"White\", \"Black\", \"Red\"])\n",
    "color_list_2 = set([\"Red\", \"Green\"])\n",
    "print(color_list_1 & color_list_2)\n",
    "print(color_list_1 | color_list_2)\n",
    "print(color_list_1 - color_list_2)\n",
    "print(color_list_2 - color_list_1)"
   ]
  },
  {
   "cell_type": "code",
   "execution_count": 93,
   "metadata": {},
   "outputs": [
    {
     "data": {
      "text/plain": [
       "6.0"
      ]
     },
     "execution_count": 93,
     "metadata": {},
     "output_type": "execute_result"
    }
   ],
   "source": [
    "\"\"\"\n",
    "30. Write a Python program that will accept the base and \n",
    "height of a \n",
    "triangle and compute the area. \n",
    "\"\"\"\n",
    "def w3re_30(x,y):\n",
    "    return x*y/2\n",
    "\n",
    "w3re_30(3, 4)"
   ]
  },
  {
   "cell_type": "code",
   "execution_count": 28,
   "metadata": {},
   "outputs": [
    {
     "name": "stdout",
     "output_type": "stream",
     "text": [
      "[1, 2, 4]\n",
      "4\n",
      "[1]\n",
      "1\n",
      "[1, 5, 25]\n",
      "25\n"
     ]
    }
   ],
   "source": [
    "def w3re_31(x, y):\n",
    "    divider_list=[]\n",
    "    i=1\n",
    "    while i<=x and i<=y:\n",
    "        if x%i==0 and y%i==0:\n",
    "            divider_list.append(i)\n",
    "            i +=1\n",
    "        else:\n",
    "            i +=1\n",
    "        \n",
    "    \n",
    "    z=max(divider_list)\n",
    "    print(divider_list)\n",
    "    print(z) \n",
    "\n",
    "w3re_31(20, 4)\n",
    "w3re_31(12, 17)\n",
    "w3re_31(25, 25)"
   ]
  },
  {
   "cell_type": "code",
   "execution_count": 27,
   "metadata": {},
   "outputs": [
    {
     "data": {
      "text/plain": [
       "5040"
      ]
     },
     "execution_count": 27,
     "metadata": {},
     "output_type": "execute_result"
    }
   ],
   "source": [
    "\"\"\"\n",
    "32. Write a Python program to get the least common multiple \n",
    "(LCM) of two positive integers. Go to the editor\n",
    "Click me to see the sample solution\n",
    "\"\"\"\n",
    "def w3re_32(x, y):\n",
    "    i=1\n",
    "    while i < 10000:\n",
    "        if x>=y:\n",
    "            z=y*i\n",
    "            if z%x==0:\n",
    "                return z\n",
    "                break\n",
    "            else:\n",
    "                i +=1\n",
    "                pass\n",
    "\n",
    "        if x<y:\n",
    "            z=x*i\n",
    "            if z%y==0:\n",
    "                return z\n",
    "                break\n",
    "            else:\n",
    "                i +=1\n",
    "                pass   \n",
    "    retrun(z)\n",
    "\n",
    "\n",
    "\n",
    "w3re_32(3, 2)\n",
    "w3re_32(5, 4)\n",
    "w3re_32(6, 8)\n",
    "w3re_32(336, 360)"
   ]
  },
  {
   "cell_type": "code",
   "execution_count": 31,
   "metadata": {},
   "outputs": [],
   "source": [
    "\"\"\"\n",
    "39. Write a Python program to compute the future value of a specified principal amount, rate of interest, and a number of years. Go to the editor\n",
    "Test Data : amt = 10000, int = 3.5, years = 7\n",
    "Expected Output : 12722.79\n",
    "Click me to see the sample solution\n",
    "\"\"\"\n",
    "def w3re_39(x, y, z):\n",
    "    return x*(1+y/100)**z\n"
   ]
  },
  {
   "cell_type": "code",
   "execution_count": 38,
   "metadata": {},
   "outputs": [
    {
     "data": {
      "text/plain": [
       "12722.792627665729"
      ]
     },
     "execution_count": 38,
     "metadata": {},
     "output_type": "execute_result"
    }
   ],
   "source": [
    "w3re_39(10000, 3.5, 7)"
   ]
  },
  {
   "cell_type": "code",
   "execution_count": 33,
   "metadata": {},
   "outputs": [],
   "source": [
    "\"\"\"\n",
    "40. Write a Python program to compute the distance between \n",
    "the points (x1, y1) and (x2, y2). Go to the editor\n",
    "Click me to see the sample solution\n",
    "\"\"\"\n",
    "def w3re_40(x1, x2, y1, y2):\n",
    "    import math\n",
    "    return math.sqrt((x1-x2)**2+(y1-y2)**2)\n"
   ]
  },
  {
   "cell_type": "code",
   "execution_count": 34,
   "metadata": {},
   "outputs": [
    {
     "data": {
      "text/plain": [
       "7.615773105863909"
      ]
     },
     "execution_count": 34,
     "metadata": {},
     "output_type": "execute_result"
    }
   ],
   "source": [
    "w3re_40(1,4,1,8 )"
   ]
  },
  {
   "cell_type": "code",
   "execution_count": 36,
   "metadata": {},
   "outputs": [],
   "source": [
    "def w3re_40_1(x1, x2, y1, y2):\n",
    "    return ((x1-x2)**2+(y1-y2)**2)**(1/2)"
   ]
  },
  {
   "cell_type": "code",
   "execution_count": 37,
   "metadata": {},
   "outputs": [
    {
     "data": {
      "text/plain": [
       "7.615773105863909"
      ]
     },
     "execution_count": 37,
     "metadata": {},
     "output_type": "execute_result"
    }
   ],
   "source": [
    "w3re_40_1(1,4,1,8)"
   ]
  },
  {
   "cell_type": "code",
   "execution_count": null,
   "metadata": {},
   "outputs": [],
   "source": []
  }
 ],
 "metadata": {
  "kernelspec": {
   "display_name": "Python 3",
   "language": "python",
   "name": "python3"
  },
  "language_info": {
   "codemirror_mode": {
    "name": "ipython",
    "version": 3
   },
   "file_extension": ".py",
   "mimetype": "text/x-python",
   "name": "python",
   "nbconvert_exporter": "python",
   "pygments_lexer": "ipython3",
   "version": "3.7.6"
  }
 },
 "nbformat": 4,
 "nbformat_minor": 4
}
